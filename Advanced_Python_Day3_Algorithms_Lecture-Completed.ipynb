{
 "cells": [
  {
   "cell_type": "markdown",
   "metadata": {},
   "source": [
    "# Classic Algorithms"
   ]
  },
  {
   "cell_type": "markdown",
   "metadata": {},
   "source": [
    "## Tasks Today:\n",
    "\n",
    "1) <b>Intro to Algorithms</b> <br>\n",
    " &nbsp;&nbsp;&nbsp;&nbsp; a) What are algorithms <br>\n",
    " &nbsp;&nbsp;&nbsp;&nbsp; b) Quick Intro to Big-O Notation <br>\n",
    "2) <b>In-Place Algorithms</b> <br>\n",
    " &nbsp;&nbsp;&nbsp;&nbsp; a) Syntax <br>\n",
    " &nbsp;&nbsp;&nbsp;&nbsp; a) Out of Place Algorithm <br>\n",
    " &nbsp;&nbsp;&nbsp;&nbsp; b) In-Class Exercise #1 <br>\n",
    "3) <b>Two Pointers</b> <br>\n",
    "4) <b>Sorting Algorithms</b> <br>\n",
    "5) <b>Merge Sort</b> <br>\n",
    " &nbsp;&nbsp;&nbsp;&nbsp; a) Video on Algorithms <br>\n",
    " &nbsp;&nbsp;&nbsp;&nbsp; b) How it Works <br>\n",
    "6) <b>Exercises</b> <br>\n",
    " &nbsp;&nbsp;&nbsp;&nbsp; a) Exercise #1 - Reverse a List in Place Using an In-Place Algorithm <br>\n",
    " &nbsp;&nbsp;&nbsp;&nbsp; b) Exercise #2 - Find Distinct Words <br>\n",
    " &nbsp;&nbsp;&nbsp;&nbsp; c) Exercise #3 - Write a program to implement a Linear Search Algorithm. <br>"
   ]
  },
  {
   "cell_type": "markdown",
   "metadata": {},
   "source": [
    "## Intro to Algorithms"
   ]
  },
  {
   "cell_type": "markdown",
   "metadata": {},
   "source": [
    "#### What is an algorithm"
   ]
  },
  {
   "cell_type": "markdown",
   "metadata": {},
   "source": [
    "- An algorithm is a set of instructions for solving a problem \n",
    "- Algorithms are used to solve all types of problems such as sorting data and searching for information\n",
    "- Being able to write efficient algorithms is an important part of being a computer programmer"
   ]
  },
  {
   "cell_type": "markdown",
   "metadata": {},
   "source": [
    "#### Quick Intro to Big O Notation"
   ]
  },
  {
   "cell_type": "markdown",
   "metadata": {},
   "source": [
    "Time and space complexity is the measure of how much time a given action(function) will take to solve a problem. In the same fashion, we determine how much a given data structure will need in terms of memory allocation. A problem can have multiple solutions and finding the optimal solution for the problem needs to be analyzed in time and space.\n",
    "<br>\n",
    "See more <a href=\"https://zippy-lan-200.notion.site/Intro-to-Time-Complexity-ae4a9c7dbefb4b9f9351ade7a2b2fa72\">here</a>"
   ]
  },
  {
   "cell_type": "code",
   "execution_count": 1,
   "metadata": {},
   "outputs": [
    {
     "name": "stdout",
     "output_type": "stream",
     "text": [
      "i=1, j=1\n",
      "i=1, j=2\n",
      "i=1, j=3\n",
      "i=1, j=4\n",
      "i=1, j=5\n",
      "i=2, j=1\n",
      "i=2, j=2\n",
      "i=2, j=3\n",
      "i=2, j=4\n",
      "i=2, j=5\n",
      "i=3, j=1\n",
      "i=3, j=2\n",
      "i=3, j=3\n",
      "i=3, j=4\n",
      "i=3, j=5\n",
      "i=4, j=1\n",
      "i=4, j=2\n",
      "i=4, j=3\n",
      "i=4, j=4\n",
      "i=4, j=5\n",
      "i=5, j=1\n",
      "i=5, j=2\n",
      "i=5, j=3\n",
      "i=5, j=4\n",
      "i=5, j=5\n"
     ]
    }
   ],
   "source": [
    "nums = [1, 2, 3, 4, 5]\n",
    "\n",
    "for i in nums:\n",
    "    for j in nums:\n",
    "        print(f\"i={i}, j={j}\")"
   ]
  },
  {
   "cell_type": "markdown",
   "metadata": {},
   "source": [
    "## In-Place Algorithms"
   ]
  },
  {
   "cell_type": "markdown",
   "metadata": {},
   "source": [
    "#### Syntax"
   ]
  },
  {
   "cell_type": "code",
   "execution_count": 2,
   "metadata": {},
   "outputs": [],
   "source": [
    "my_list = ['a', 'b', 'c', 'd', 'e', 'f']"
   ]
  },
  {
   "cell_type": "code",
   "execution_count": 3,
   "metadata": {},
   "outputs": [
    {
     "data": {
      "text/plain": [
       "['a', 'e', 'c', 'd', 'b', 'f']"
      ]
     },
     "execution_count": 3,
     "metadata": {},
     "output_type": "execute_result"
    }
   ],
   "source": [
    "def swap(a_list, index1, index2):\n",
    "    temp = a_list[index1]\n",
    "    a_list[index1] = a_list[index2]\n",
    "    a_list[index2] = temp\n",
    "    return a_list\n",
    "\n",
    "\n",
    "swap(my_list, 1, 4)"
   ]
  },
  {
   "cell_type": "code",
   "execution_count": 4,
   "metadata": {},
   "outputs": [
    {
     "data": {
      "text/plain": [
       "['red', 'green', 'yellow', 'orange', 'blue']"
      ]
     },
     "execution_count": 4,
     "metadata": {},
     "output_type": "execute_result"
    }
   ],
   "source": [
    "# a_list[a], a_list[b] = a_list[b], a_list[a]\n",
    "\n",
    "def swap(a_list, index_a, index_b):\n",
    "    a_list[index_a], a_list[index_b] = a_list[index_b], a_list[index_a]\n",
    "    return a_list\n",
    "\n",
    "my_new_list = ['red', 'orange', 'yellow', 'green', 'blue']\n",
    "\n",
    "swap(my_new_list, 1, 3)"
   ]
  },
  {
   "cell_type": "code",
   "execution_count": 5,
   "metadata": {},
   "outputs": [
    {
     "name": "stdout",
     "output_type": "stream",
     "text": [
      "Before: ['red', 'orange', 'yellow', 'green', 'blue']\n",
      "After: ['red', 'green', 'yellow', 'orange', 'blue']\n"
     ]
    }
   ],
   "source": [
    "my_new_list = ['red', 'orange', 'yellow', 'green', 'blue']\n",
    "\n",
    "print(\"Before:\", my_new_list)\n",
    "swap(my_new_list, 1, 3)\n",
    "print(\"After:\", my_new_list)"
   ]
  },
  {
   "cell_type": "markdown",
   "metadata": {},
   "source": [
    "#### Out of Place Algorithm"
   ]
  },
  {
   "cell_type": "code",
   "execution_count": 6,
   "metadata": {
    "scrolled": true
   },
   "outputs": [],
   "source": [
    "def out_of_place_swap(a_list, index_a, index_b):\n",
    "    new_list = a_list[:] # Create a copy of a_list\n",
    "    new_list[index_a] = a_list[index_b]\n",
    "    new_list[index_b] = a_list[index_a]\n",
    "    return new_list"
   ]
  },
  {
   "cell_type": "code",
   "execution_count": 7,
   "metadata": {},
   "outputs": [
    {
     "name": "stdout",
     "output_type": "stream",
     "text": [
      "Before: ['Africa', 'Antarctica', 'Asia', 'Australia', 'Europe', 'North America', 'South America']\n",
      "After: ['Africa', 'Antarctica', 'Asia', 'Australia', 'Europe', 'North America', 'South America']\n",
      "New List: ['South America', 'Antarctica', 'Asia', 'Australia', 'Europe', 'North America', 'Africa']\n"
     ]
    }
   ],
   "source": [
    "continents = ['Africa', 'Antarctica', 'Asia', 'Australia', 'Europe', 'North America', 'South America']\n",
    "\n",
    "print('Before:', continents)\n",
    "swapped_continents = out_of_place_swap(continents, 0, 6)\n",
    "print('After:', continents)\n",
    "print('New List:', swapped_continents)"
   ]
  },
  {
   "cell_type": "code",
   "execution_count": 8,
   "metadata": {
    "scrolled": true
   },
   "outputs": [
    {
     "name": "stdout",
     "output_type": "stream",
     "text": [
      "Before: [4, 6, 9, 3, 1, 5, 2, 8, 7]\n",
      "After: [1, 2, 3, 4, 5, 6, 7, 8, 9]\n",
      "Return Value: None\n"
     ]
    }
   ],
   "source": [
    "# .sort() method is in-place\n",
    "\n",
    "unsorted_list = [4, 6, 9, 3, 1, 5, 2, 8, 7]\n",
    "\n",
    "print('Before:', unsorted_list)\n",
    "sort_return = unsorted_list.sort()\n",
    "print('After:', unsorted_list)\n",
    "print('Return Value:', sort_return)"
   ]
  },
  {
   "cell_type": "code",
   "execution_count": 9,
   "metadata": {},
   "outputs": [
    {
     "name": "stdout",
     "output_type": "stream",
     "text": [
      "Before: [4, 6, 9, 3, 1, 5, 2, 8, 7]\n",
      "After: [4, 6, 9, 3, 1, 5, 2, 8, 7]\n",
      "Return Value: [1, 2, 3, 4, 5, 6, 7, 8, 9]\n"
     ]
    }
   ],
   "source": [
    "# sorted function is out-of-place\n",
    "\n",
    "unsorted_list = [4, 6, 9, 3, 1, 5, 2, 8, 7]\n",
    "\n",
    "print('Before:', unsorted_list)\n",
    "sorted_return = sorted(unsorted_list)\n",
    "print('After:', unsorted_list)\n",
    "print('Return Value:', sorted_return)"
   ]
  },
  {
   "cell_type": "markdown",
   "metadata": {},
   "source": [
    "#### In-Class Exercise #1 <br>\n",
    "<p>Write a function that takes in four arguments (a_list, index1, index2, index3), and swaps those three positions in the list passed in.</p>"
   ]
  },
  {
   "cell_type": "code",
   "execution_count": 10,
   "metadata": {},
   "outputs": [],
   "source": [
    "some_list = ['Illinois', 'Indiana', 'Wisconsin', 'Minnesota', 'Michigan', 'Missouri']\n",
    "#Possible Output: ['Illinois', 'Minnesota', 'Wisconsin', 'Michigan', 'Indiana', 'Missouri']"
   ]
  },
  {
   "cell_type": "markdown",
   "metadata": {},
   "source": [
    "## Two Pointers"
   ]
  },
  {
   "cell_type": "markdown",
   "metadata": {},
   "source": [
    "#### Syntax"
   ]
  },
  {
   "cell_type": "code",
   "execution_count": 11,
   "metadata": {},
   "outputs": [],
   "source": [
    "def reverse_list(lst):\n",
    "    left = 0 # Start at the far left end of the list\n",
    "    right = len(lst) - 1 # Start at the far right end of the list\n",
    "    while left < right:\n",
    "        lst[left], lst[right] = lst[right], lst[left] # Swap the values at the left and right location\n",
    "        left += 1 # Move the left index to the right by 1\n",
    "        right -= 1 # Move the right index to the left by 1\n",
    "    return lst"
   ]
  },
  {
   "cell_type": "code",
   "execution_count": 12,
   "metadata": {},
   "outputs": [
    {
     "name": "stdout",
     "output_type": "stream",
     "text": [
      "['Illinois', 'Indiana', 'Wisconsin', 'Minnesota', 'Michigan', 'Missouri']\n"
     ]
    }
   ],
   "source": [
    "print(some_list)"
   ]
  },
  {
   "cell_type": "code",
   "execution_count": 13,
   "metadata": {},
   "outputs": [
    {
     "data": {
      "text/plain": [
       "['Missouri', 'Michigan', 'Minnesota', 'Wisconsin', 'Indiana', 'Illinois']"
      ]
     },
     "execution_count": 13,
     "metadata": {},
     "output_type": "execute_result"
    }
   ],
   "source": [
    "reverse_list(some_list)"
   ]
  },
  {
   "cell_type": "code",
   "execution_count": 14,
   "metadata": {},
   "outputs": [
    {
     "name": "stdout",
     "output_type": "stream",
     "text": [
      "['Missouri', 'Michigan', 'Minnesota', 'Wisconsin', 'Indiana', 'Illinois']\n"
     ]
    }
   ],
   "source": [
    "print(some_list)"
   ]
  },
  {
   "cell_type": "markdown",
   "metadata": {},
   "source": [
    "# Sorting Algorithms"
   ]
  },
  {
   "cell_type": "code",
   "execution_count": 15,
   "metadata": {},
   "outputs": [
    {
     "name": "stdout",
     "output_type": "stream",
     "text": [
      "[41, 17, 17, 42, 13, 48, 41, 18, 26, 4]\n"
     ]
    }
   ],
   "source": [
    "from random import randint\n",
    "\n",
    "list_to_sort = [randint(1, 50) for _ in range(10)]\n",
    "\n",
    "print(list_to_sort)"
   ]
  },
  {
   "cell_type": "markdown",
   "metadata": {},
   "source": [
    "#### Bubble Sort\n",
    "\n",
    "Worst Case: O(n^2) Time - O(1) Space"
   ]
  },
  {
   "cell_type": "code",
   "execution_count": 16,
   "metadata": {},
   "outputs": [
    {
     "data": {
      "text/plain": [
       "[4, 13, 17, 17, 18, 26, 41, 41, 42, 48]"
      ]
     },
     "execution_count": 16,
     "metadata": {},
     "output_type": "execute_result"
    }
   ],
   "source": [
    "def bubble_sort(lst):\n",
    "    # When we first start, set a var (made_swap) to True to begin the while loop\n",
    "    made_swap = True\n",
    "    while made_swap:\n",
    "        # Begin checking with the assumption (hope?) that we don't have to make any swaps (aka list is sorted)\n",
    "        made_swap = False\n",
    "        # Start at the 0-index and loop through to the second to last item in the list (because we check item and item to right)\n",
    "        for idx in range(len(lst) - 1):\n",
    "            # Check if the value at idx is greater than the value to its right\n",
    "            if lst[idx] > lst[idx+1]:\n",
    "                # if so, swap those values\n",
    "                lst[idx], lst[idx+1] = lst[idx+1], lst[idx]\n",
    "                # since we made a swap, change the value of made_swap to True\n",
    "                made_swap = True\n",
    "    # Once we loop through without making a swap, our list is sorted and we can return\n",
    "    return lst\n",
    "        \n",
    "    \n",
    "bubble_sort(list_to_sort)"
   ]
  },
  {
   "cell_type": "code",
   "execution_count": 17,
   "metadata": {},
   "outputs": [
    {
     "name": "stdout",
     "output_type": "stream",
     "text": [
      "[4, 13, 17, 17, 18, 26, 41, 41, 42, 48]\n"
     ]
    }
   ],
   "source": [
    "print(list_to_sort)"
   ]
  },
  {
   "cell_type": "code",
   "execution_count": 18,
   "metadata": {},
   "outputs": [
    {
     "name": "stdout",
     "output_type": "stream",
     "text": [
      "['Missouri', 'Michigan', 'Minnesota', 'Wisconsin', 'Indiana', 'Illinois']\n",
      "['Illinois', 'Indiana', 'Michigan', 'Minnesota', 'Missouri', 'Wisconsin']\n"
     ]
    }
   ],
   "source": [
    "print(some_list)\n",
    "bubble_sort(some_list)\n",
    "print(some_list)"
   ]
  },
  {
   "cell_type": "markdown",
   "metadata": {},
   "source": [
    "##### Insertion Sort\n",
    "\n",
    "Worst Case: O(n^2) time - O(1)space"
   ]
  },
  {
   "cell_type": "code",
   "execution_count": 19,
   "metadata": {},
   "outputs": [
    {
     "name": "stdout",
     "output_type": "stream",
     "text": [
      "[33, 49, 13, 32, 14, 42, 25, 36, 43, 27]\n"
     ]
    }
   ],
   "source": [
    "list_to_sort = [randint(1, 50) for _ in range(10)]\n",
    "\n",
    "print(list_to_sort)"
   ]
  },
  {
   "cell_type": "code",
   "execution_count": 20,
   "metadata": {},
   "outputs": [
    {
     "data": {
      "text/plain": [
       "[13, 14, 25, 27, 32, 33, 36, 42, 43, 49]"
      ]
     },
     "execution_count": 20,
     "metadata": {},
     "output_type": "execute_result"
    }
   ],
   "source": [
    "def insertion_sort(lst):\n",
    "    # Loop over the unordered section (start at 1 because the 0-index is \"sorted\")\n",
    "    for i in range(1, len(lst)):\n",
    "        # While we are not at the front of the list AND the element to the left is greater than our element\n",
    "        pointer = i\n",
    "        while pointer > 0 and lst[pointer-1] > lst[pointer]:\n",
    "            # Swap the element with the element to its left\n",
    "            lst[pointer], lst[pointer-1] = lst[pointer-1], lst[pointer]\n",
    "            # Move the pointer left one index (to match the new swap)\n",
    "            pointer -= 1\n",
    "    # Once we've looped over the unordered section, the list should be ordered\n",
    "    return lst\n",
    "\n",
    "\n",
    "insertion_sort(list_to_sort)"
   ]
  },
  {
   "cell_type": "code",
   "execution_count": 21,
   "metadata": {},
   "outputs": [
    {
     "data": {
      "text/plain": [
       "['Alan', 'David', 'Helen', 'James', 'Mike', 'Nina', 'Sarah', 'Xavier']"
      ]
     },
     "execution_count": 21,
     "metadata": {},
     "output_type": "execute_result"
    }
   ],
   "source": [
    "names = ['Mike', 'Helen', 'James', 'Nina', 'Alan', 'Sarah', 'David', 'Xavier']\n",
    "\n",
    "insertion_sort(names)"
   ]
  },
  {
   "cell_type": "markdown",
   "metadata": {},
   "source": [
    "## Merge Sort"
   ]
  },
  {
   "cell_type": "markdown",
   "metadata": {},
   "source": [
    "#### How it Works"
   ]
  },
  {
   "cell_type": "code",
   "execution_count": 22,
   "metadata": {},
   "outputs": [
    {
     "name": "stdout",
     "output_type": "stream",
     "text": [
      "[16, 41, 6, 13, 9, 1, 23, 24]\n"
     ]
    }
   ],
   "source": [
    "list_to_sort = [randint(1, 50) for _ in range(8)]\n",
    "\n",
    "print(list_to_sort)"
   ]
  },
  {
   "cell_type": "code",
   "execution_count": 23,
   "metadata": {},
   "outputs": [
    {
     "name": "stdout",
     "output_type": "stream",
     "text": [
      "Splitting... [16, 41, 6, 13, 9, 1, 23, 24]\n",
      "Splitting... [16, 41, 6, 13]\n",
      "Splitting... [16, 41]\n",
      "Merging... [16]\n",
      "Merging... [41]\n",
      "Merging... [16, 41]\n",
      "Splitting... [6, 13]\n",
      "Merging... [6]\n",
      "Merging... [13]\n",
      "Merging... [6, 13]\n",
      "Merging... [6, 13, 16, 41]\n",
      "Splitting... [9, 1, 23, 24]\n",
      "Splitting... [9, 1]\n",
      "Merging... [9]\n",
      "Merging... [1]\n",
      "Merging... [1, 9]\n",
      "Splitting... [23, 24]\n",
      "Merging... [23]\n",
      "Merging... [24]\n",
      "Merging... [23, 24]\n",
      "Merging... [1, 9, 23, 24]\n",
      "Merging... [1, 6, 9, 13, 16, 23, 24, 41]\n"
     ]
    },
    {
     "data": {
      "text/plain": [
       "[1, 6, 9, 13, 16, 23, 24, 41]"
      ]
     },
     "execution_count": 23,
     "metadata": {},
     "output_type": "execute_result"
    }
   ],
   "source": [
    "def merge_sort(lst):\n",
    "    if len(lst) > 1:\n",
    "        # Find the midway point of the list\n",
    "        midway = len(lst) // 2\n",
    "        # Split the list into left and right\n",
    "        print('Splitting...', lst)\n",
    "        left_half = lst[:midway]\n",
    "        right_half = lst[midway:]\n",
    "        \n",
    "        # Call merge sort on the left half\n",
    "        merge_sort(left_half)\n",
    "        # Call merge sort on the right half\n",
    "        merge_sort(right_half)\n",
    "        \n",
    "        # Merge the left and right half lists back into the original list\n",
    "        \n",
    "        # index pointers for our lists\n",
    "        l = 0 # pointer for left half\n",
    "        r = 0 # pointer for right half\n",
    "        m = 0 # pointer for main list\n",
    "        \n",
    "        # While we still have values in left and right\n",
    "        while l < len(left_half) and r < len(right_half):\n",
    "            # if the element we are pointing to in the left half is less than the element in the right half\n",
    "            if left_half[l] < right_half[r]:\n",
    "                # Place the left half value in the original list\n",
    "                lst[m] = left_half[l]\n",
    "                # Move our left half pointer right one spot\n",
    "                l += 1\n",
    "            else:\n",
    "                # place the right half value in the original list\n",
    "                lst[m] = right_half[r]\n",
    "                # Move our right half pointer right one spot\n",
    "                r += 1\n",
    "            # Either way, always increase the main index pointer\n",
    "            m += 1\n",
    "    \n",
    "        # If one of the halfs finish, add the other half to the original list\n",
    "        while l < len(left_half):\n",
    "            lst[m] = left_half[l]\n",
    "            l += 1\n",
    "            m += 1\n",
    "        while r < len(right_half):\n",
    "            lst[m] = right_half[r]\n",
    "            r += 1\n",
    "            m += 1\n",
    "    print('Merging...', lst)\n",
    "    return lst\n",
    "        \n",
    "    \n",
    "merge_sort(list_to_sort)"
   ]
  },
  {
   "cell_type": "markdown",
   "metadata": {},
   "source": [
    "# Binary Search\n",
    "\n",
    "The Binary Search algorithm works by finding the number in the middle of a given array and comparing it to the target. **Given that the array is sorted**\n",
    "\n",
    "* The worst case run time for this algorithm is `O(log(n))`"
   ]
  },
  {
   "cell_type": "code",
   "execution_count": null,
   "metadata": {},
   "outputs": [
    {
     "name": "stdout",
     "output_type": "stream",
     "text": [
      "[1, 1, 9, 23, 26, 27, 34, 34, 35, 39, 40, 41, 44, 58, 63, 69, 82, 87, 88, 100]\n"
     ]
    }
   ],
   "source": [
    "list_to_search = [randint(1,100) for _ in range(20)]\n",
    "bubble_sort(list_to_search)\n",
    "print(list_to_search)"
   ]
  },
  {
   "cell_type": "code",
   "execution_count": null,
   "metadata": {},
   "outputs": [
    {
     "data": {
      "text/plain": [
       "-1"
      ]
     },
     "execution_count": 25,
     "metadata": {},
     "output_type": "execute_result"
    }
   ],
   "source": [
    "# Less == Left\n",
    "# Greater == Right\n",
    "# List of numbers MUST be sorted\n",
    "\n",
    "def binary_search(lst, target):\n",
    "    low = 0\n",
    "    high = len(lst) - 1\n",
    "    num_checks = 0\n",
    "    while low <= high:\n",
    "        mid = (low + high) // 2\n",
    "        num_checks += 1\n",
    "        if target == lst[mid]:\n",
    "            return f\"The index for {target} is {mid} and it took {num_checks} checks\"\n",
    "        elif target > lst[mid]:\n",
    "            low = mid + 1\n",
    "        else:\n",
    "            high = mid - 1\n",
    "    # If low ever gets higher than high, we know the target is not in the list\n",
    "    return -1\n",
    "\n",
    "\n",
    "binary_search(list_to_search, 55)"
   ]
  },
  {
   "cell_type": "code",
   "execution_count": 26,
   "metadata": {},
   "outputs": [
    {
     "name": "stdout",
     "output_type": "stream",
     "text": [
      "[0, 5, 10, 15, 20, 25, 30, 35, 40, 45, 50, 55, 60, 65, 70, 75, 80, 85, 90, 95, 100, 105, 110, 115, 120, 125, 130, 135, 140, 145, 150, 155, 160, 165, 170, 175, 180, 185, 190, 195, 200, 205, 210, 215, 220, 225, 230, 235, 240, 245, 250, 255, 260, 265, 270, 275, 280, 285, 290, 295, 300, 305, 310, 315, 320, 325, 330, 335, 340, 345, 350, 355, 360, 365, 370, 375, 380, 385, 390, 395, 400, 405, 410, 415, 420, 425, 430, 435, 440, 445, 450, 455, 460, 465, 470, 475, 480, 485, 490, 495, 500, 505, 510, 515, 520, 525, 530, 535, 540, 545, 550, 555, 560, 565, 570, 575, 580, 585, 590, 595, 600, 605, 610, 615, 620, 625, 630, 635, 640, 645, 650, 655, 660, 665, 670, 675, 680, 685, 690, 695, 700, 705, 710, 715, 720, 725, 730, 735, 740, 745, 750, 755, 760, 765, 770, 775, 780, 785, 790, 795, 800, 805, 810, 815, 820, 825, 830, 835, 840, 845, 850, 855, 860, 865, 870, 875, 880, 885, 890, 895, 900, 905, 910, 915, 920, 925, 930, 935, 940, 945, 950, 955, 960, 965, 970, 975, 980, 985, 990, 995]\n"
     ]
    }
   ],
   "source": [
    "list_of_fives = [x for x in range(0, 1000, 5)]\n",
    "print(list_of_fives)"
   ]
  },
  {
   "cell_type": "code",
   "execution_count": 27,
   "metadata": {},
   "outputs": [
    {
     "data": {
      "text/plain": [
       "'The index for 435 is 87 and it took 7 checks'"
      ]
     },
     "execution_count": 27,
     "metadata": {},
     "output_type": "execute_result"
    }
   ],
   "source": [
    "binary_search(list_of_fives, 435)"
   ]
  },
  {
   "cell_type": "markdown",
   "metadata": {},
   "source": [
    "# Exercises"
   ]
  },
  {
   "cell_type": "markdown",
   "metadata": {},
   "source": [
    "### Exercise #1 <br>\n",
    "<p>Write a function that takes a list of integers and returns the median value. *Can assume that the list of integers is sorted in ascending value*.</p>"
   ]
  },
  {
   "cell_type": "code",
   "execution_count": 1,
   "metadata": {},
   "outputs": [],
   "source": [
    "\n",
    "def find_median(sorted_list):\n",
    "    length = len(sorted_list)\n",
    "    middle = length // 2\n",
    "    if length % 2 == 0:\n",
    "        return (sorted_list[middle - 1] + sorted_list[middle]) / 2\n",
    "    else:\n",
    "        return sorted_list[middle]"
   ]
  },
  {
   "cell_type": "code",
   "execution_count": 5,
   "metadata": {},
   "outputs": [
    {
     "name": "stdout",
     "output_type": "stream",
     "text": [
      "[1, 2, 3, 5, 6, 7, 7, 8, 9, 10, 11]\n",
      "7\n"
     ]
    }
   ],
   "source": [
    "\n",
    "numbers = [1, 2, 3, 7, 5, 6, 7, 8, 9, 10, 11]\n",
    "numbers.sort()\n",
    "print(numbers)\n",
    "print(find_median(numbers))"
   ]
  },
  {
   "cell_type": "markdown",
   "metadata": {},
   "source": [
    "### Exercise #2 <br>\n",
    "<p>Create a function that counts how many distinct words are in the string below, then outputs a dictionary with the words as the key and the value as the amount of times that word appears in the string.</p>\n",
    "Example Output:<code>{'in': 1, 'computing': 1, 'a': 5, ...}</code>"
   ]
  },
  {
   "cell_type": "code",
   "execution_count": 15,
   "metadata": {},
   "outputs": [],
   "source": [
    "a_text = 'In computing, a hash table hash map is a data structure in computing which implements an associative array abstract data type, a structure that can map keys to values. A hash table uses a hash function to compute an index into an array of buckets or slots from which the desired value can be found'\n"
   ]
  },
  {
   "cell_type": "code",
   "execution_count": 17,
   "metadata": {},
   "outputs": [
    {
     "name": "stdout",
     "output_type": "stream",
     "text": [
      "{'In': 1, 'computing': 2, 'a': 4, 'hash': 4, 'table': 2, 'map': 2, 'is': 1, 'data': 2, 'structure': 2, 'in': 1, 'which': 2, 'implements': 1, 'an': 3, 'associative': 1, 'array': 2, 'abstract': 1, 'type': 1, 'that': 1, 'can': 2, 'keys': 1, 'to': 2, 'values.': 1, 'A': 1, 'uses': 1, 'function': 1, 'compute': 1, 'index': 1, 'into': 1, 'of': 1, 'buckets': 1, 'or': 1, 'slots': 1, 'from': 1, 'the': 1, 'desired': 1, 'value': 1, 'be': 1, 'found': 1}\n"
     ]
    }
   ],
   "source": [
    "a_text = a_text.replace(',', '')\n",
    "split_words = a_text.split(\" \")\n",
    "word_count = {}\n",
    "for word in split_words:\n",
    "    if word in word_count:\n",
    "        word_count[word] += 1\n",
    "    else:\n",
    "        word_count[word] = 1\n",
    "print(word_count)\n",
    "\n",
    "    \n",
    "  \n",
    "\n"
   ]
  },
  {
   "cell_type": "markdown",
   "metadata": {},
   "source": [
    "## Exercise #3\n",
    "\n",
    "Write a function implementing a Linear Search Algorithm. A linear search is a method for finding an element within a list. It sequentially checks each element of the list until a match is found or the whole list has been searched. If you do not find a match, return -1. *You can assume the list is sorted*"
   ]
  },
  {
   "cell_type": "code",
   "execution_count": 49,
   "metadata": {},
   "outputs": [
    {
     "name": "stdout",
     "output_type": "stream",
     "text": [
      "[85, 61, 4, 37, 81, 34, 34, 2, 87, 30]\n"
     ]
    }
   ],
   "source": [
    "import random\n",
    "\n",
    "random_numbers = [random.randint(1, 100) for _ in range(10)]\n",
    "print(random_numbers)"
   ]
  },
  {
   "cell_type": "code",
   "execution_count": 50,
   "metadata": {},
   "outputs": [],
   "source": [
    "\n",
    "def linear_search(random_numbers, target):\n",
    "    n = len(random_numbers)\n",
    "    for i in range(0, n):\n",
    "        if random_numbers[i] == target:\n",
    "            return i\n",
    "    return -1\n",
    "    "
   ]
  },
  {
   "cell_type": "code",
   "execution_count": 51,
   "metadata": {},
   "outputs": [
    {
     "name": "stdout",
     "output_type": "stream",
     "text": [
      "Target not found in list\n"
     ]
    }
   ],
   "source": [
    "target = 63\n",
    "index = linear_search(random_numbers, target)\n",
    "if index != -1:\n",
    "    print(f\"Target found at index: {index}\")\n",
    "else:\n",
    "    print(\"Target not found in list\")"
   ]
  },
  {
   "cell_type": "code",
   "execution_count": 53,
   "metadata": {},
   "outputs": [
    {
     "name": "stdout",
     "output_type": "stream",
     "text": [
      "Target found at index: 9\n"
     ]
    }
   ],
   "source": [
    "target = 30\n",
    "index = linear_search(random_numbers, target)\n",
    "if index != -1:\n",
    "    print(f\"Target found at index: {index}\")\n",
    "else:\n",
    "    print(\"Target not found in list\")"
   ]
  },
  {
   "cell_type": "code",
   "execution_count": null,
   "metadata": {},
   "outputs": [],
   "source": []
  }
 ],
 "metadata": {
  "kernelspec": {
   "display_name": "Python 3 (ipykernel)",
   "language": "python",
   "name": "python3"
  },
  "language_info": {
   "codemirror_mode": {
    "name": "ipython",
    "version": 3
   },
   "file_extension": ".py",
   "mimetype": "text/x-python",
   "name": "python",
   "nbconvert_exporter": "python",
   "pygments_lexer": "ipython3",
   "version": "3.12.2"
  }
 },
 "nbformat": 4,
 "nbformat_minor": 2
}
